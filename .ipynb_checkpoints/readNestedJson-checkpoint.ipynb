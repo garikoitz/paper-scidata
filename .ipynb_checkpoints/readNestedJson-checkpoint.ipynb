{
 "cells": [
  {
   "cell_type": "markdown",
   "metadata": {},
   "source": [
    "# Read the nested json file to a pandas data frame\n",
    "\n",
    "This json file was generated in Matlab. We exported a nested Matlab table into a nested json file. To use it in Python, we provide a script to read it into a pandas dataframe.\n",
    "\n",
    "\n",
    "## Install required packages in the current Jupyter kernel"
   ]
  },
  {
   "cell_type": "code",
   "execution_count": 1,
   "metadata": {},
   "outputs": [],
   "source": [
    "import sys\n",
    "# If you use conda\n",
    "# !conda install --yes --prefix {sys.prefix} numpy\n",
    "# !conda install --yes --prefix {sys.prefix} pandas\n",
    "# !conda install --yes --prefix {sys.prefix} matplotlib\n",
    "\n",
    "# If you use pip\n",
    "# !{sys.executable} -m pip install numpy\n",
    "# !{sys.executable} -m pip install jsonpath_rw"
   ]
  },
  {
   "cell_type": "markdown",
   "metadata": {},
   "source": [
    "## Import required libraries for analysis and plot"
   ]
  },
  {
   "cell_type": "code",
   "execution_count": 10,
   "metadata": {},
   "outputs": [],
   "source": [
    "# Import libraries\n",
    "import os\n",
    "import pandas as pd\n",
    "import numpy as np\n",
    "import json\n",
    "from jsonpath_rw import parse\n",
    "\n",
    "\n",
    "%matplotlib inline\n",
    "import matplotlib.pyplot as plt\n",
    "plt.style.use('seaborn-whitegrid')"
   ]
  },
  {
   "cell_type": "markdown",
   "metadata": {},
   "source": [
    "### Define paths"
   ]
  },
  {
   "cell_type": "code",
   "execution_count": 11,
   "metadata": {},
   "outputs": [],
   "source": [
    "# Edit the path with the location the json file was downloaded and unzipped\n",
    "pathName      = './'\n",
    "fileName      = 'AllV04_multiSiteAndMeas_ComputationalReproducibility_2020-08-03T12-36.json'\n",
    "fNameWithPath = os.path.join(pathName, fileName)"
   ]
  },
  {
   "cell_type": "markdown",
   "metadata": {},
   "source": [
    "## Pandas\n",
    "### Read the file"
   ]
  },
  {
   "cell_type": "code",
   "execution_count": 12,
   "metadata": {},
   "outputs": [],
   "source": [
    "# Read the file to a Pandas structure\n",
    "dt = pd.read_json(fNameWithPath)"
   ]
  },
  {
   "cell_type": "markdown",
   "metadata": {},
   "source": [
    "### Explore main contents\n",
    "In the first level, we have 15 different types of variables:\n",
    "\n",
    "A. Four simple (one value) variables:\n",
    "1. Proj: Project name\n",
    "1. SubjID: unique subject ID in the project\n",
    "1. Struct: Name of the white matter structure or tract\n",
    "1. TRT: if the data corresponds to the TEST or RETEST session. A subject can have only TEST. \n",
    "\n",
    "B. Eight array variables, corresponding to the summary statistics:\n",
    "1. fa\n",
    "1. ad\n",
    "1. cl\n",
    "1. curvature\n",
    "1. md\n",
    "1. rd\n",
    "1. torsion\n",
    "1. volume\n",
    "\n",
    "C. Three subtables with nested data with metadata information:\n",
    "1. SubjectMD:  Subject information and behavioral results\n",
    "1. AcquMD:     MRI Acquisition information\n",
    "1. AnalysisMD: Analysis parameters and details information"
   ]
  },
  {
   "cell_type": "code",
   "execution_count": 5,
   "metadata": {},
   "outputs": [
    {
     "data": {
      "text/html": [
       "<div>\n",
       "<style scoped>\n",
       "    .dataframe tbody tr th:only-of-type {\n",
       "        vertical-align: middle;\n",
       "    }\n",
       "\n",
       "    .dataframe tbody tr th {\n",
       "        vertical-align: top;\n",
       "    }\n",
       "\n",
       "    .dataframe thead th {\n",
       "        text-align: right;\n",
       "    }\n",
       "</style>\n",
       "<table border=\"1\" class=\"dataframe\">\n",
       "  <thead>\n",
       "    <tr style=\"text-align: right;\">\n",
       "      <th></th>\n",
       "      <th>Proj</th>\n",
       "      <th>Struct</th>\n",
       "      <th>SubjID</th>\n",
       "      <th>TRT</th>\n",
       "      <th>ad</th>\n",
       "      <th>curvature</th>\n",
       "      <th>fa</th>\n",
       "      <th>md</th>\n",
       "      <th>rd</th>\n",
       "      <th>torsion</th>\n",
       "      <th>volume</th>\n",
       "      <th>SubjectMD</th>\n",
       "      <th>AcquMD</th>\n",
       "      <th>AnalysisMD</th>\n",
       "    </tr>\n",
       "  </thead>\n",
       "  <tbody>\n",
       "    <tr>\n",
       "      <th>0</th>\n",
       "      <td>YWM</td>\n",
       "      <td>LeftThalamicRadiation</td>\n",
       "      <td>036_HM</td>\n",
       "      <td>TEST</td>\n",
       "      <td>[1.10686774015895, 1.10282173420415, 1.1016997...</td>\n",
       "      <td>[0.056174088521258006, 0.084126603210461, 0.09...</td>\n",
       "      <td>[0.33872808130978604, 0.34027080406271104, 0.3...</td>\n",
       "      <td>[0.794445057479731, 0.78972660203269, 0.785253...</td>\n",
       "      <td>[0.638233716140119, 0.633179035946959, 0.62702...</td>\n",
       "      <td>[0.056621518940357, -0.24186227092408602, -0.2...</td>\n",
       "      <td>[321, 250, 305, 308, 301, 308, 304, 309, 323, ...</td>\n",
       "      <td>[{'AGE': 12, 'analyses': [], 'code': '036_HM',...</td>\n",
       "      <td>[{'AcquisitionDateTime': '', 'AcquisitionMatri...</td>\n",
       "      <td>[{'AFQ_Browser_Title': 'AFQ_Browser', 'AFQ_Out...</td>\n",
       "    </tr>\n",
       "    <tr>\n",
       "      <th>1</th>\n",
       "      <td>YWM</td>\n",
       "      <td>RightThalamicRadiation</td>\n",
       "      <td>036_HM</td>\n",
       "      <td>TEST</td>\n",
       "      <td>[1.0286278050876, 1.03237912405886, 1.03880792...</td>\n",
       "      <td>[0.08656930273285601, 0.105496520227217, 0.114...</td>\n",
       "      <td>[0.276708721819785, 0.279782012924356, 0.28466...</td>\n",
       "      <td>[0.79452262149724, 0.795120227732606, 0.796094...</td>\n",
       "      <td>[0.677470029702061, 0.676490779569481, 0.67473...</td>\n",
       "      <td>[-0.116814010497821, -0.128371951251356, 0.023...</td>\n",
       "      <td>[157, 133, 152, 153, 156, 165, 161, 171, 172, ...</td>\n",
       "      <td>[{'AGE': 12, 'analyses': [], 'code': '036_HM',...</td>\n",
       "      <td>[{'AcquisitionDateTime': '', 'AcquisitionMatri...</td>\n",
       "      <td>[{'AFQ_Browser_Title': 'AFQ_Browser', 'AFQ_Out...</td>\n",
       "    </tr>\n",
       "    <tr>\n",
       "      <th>2</th>\n",
       "      <td>YWM</td>\n",
       "      <td>LeftCorticospinal</td>\n",
       "      <td>036_HM</td>\n",
       "      <td>TEST</td>\n",
       "      <td>[1.6975708899930702, 1.7132275680131501, 1.723...</td>\n",
       "      <td>[0.072781561255574, 0.081586187429629, 0.09698...</td>\n",
       "      <td>[0.6188707163567211, 0.6300176222572591, 0.646...</td>\n",
       "      <td>[0.9462875028532121, 0.9408425194108551, 0.927...</td>\n",
       "      <td>[0.570645809283284, 0.554649995109709, 0.53035...</td>\n",
       "      <td>[-0.053852082482733, 0.12404491093655, 0.07656...</td>\n",
       "      <td>[321, 277, 310, 315, 318, 337, 349, 355, 350, ...</td>\n",
       "      <td>[{'AGE': 12, 'analyses': [], 'code': '036_HM',...</td>\n",
       "      <td>[{'AcquisitionDateTime': '', 'AcquisitionMatri...</td>\n",
       "      <td>[{'AFQ_Browser_Title': 'AFQ_Browser', 'AFQ_Out...</td>\n",
       "    </tr>\n",
       "  </tbody>\n",
       "</table>\n",
       "</div>"
      ],
      "text/plain": [
       "  Proj                  Struct  SubjID   TRT  \\\n",
       "0  YWM   LeftThalamicRadiation  036_HM  TEST   \n",
       "1  YWM  RightThalamicRadiation  036_HM  TEST   \n",
       "2  YWM       LeftCorticospinal  036_HM  TEST   \n",
       "\n",
       "                                                  ad  \\\n",
       "0  [1.10686774015895, 1.10282173420415, 1.1016997...   \n",
       "1  [1.0286278050876, 1.03237912405886, 1.03880792...   \n",
       "2  [1.6975708899930702, 1.7132275680131501, 1.723...   \n",
       "\n",
       "                                           curvature  \\\n",
       "0  [0.056174088521258006, 0.084126603210461, 0.09...   \n",
       "1  [0.08656930273285601, 0.105496520227217, 0.114...   \n",
       "2  [0.072781561255574, 0.081586187429629, 0.09698...   \n",
       "\n",
       "                                                  fa  \\\n",
       "0  [0.33872808130978604, 0.34027080406271104, 0.3...   \n",
       "1  [0.276708721819785, 0.279782012924356, 0.28466...   \n",
       "2  [0.6188707163567211, 0.6300176222572591, 0.646...   \n",
       "\n",
       "                                                  md  \\\n",
       "0  [0.794445057479731, 0.78972660203269, 0.785253...   \n",
       "1  [0.79452262149724, 0.795120227732606, 0.796094...   \n",
       "2  [0.9462875028532121, 0.9408425194108551, 0.927...   \n",
       "\n",
       "                                                  rd  \\\n",
       "0  [0.638233716140119, 0.633179035946959, 0.62702...   \n",
       "1  [0.677470029702061, 0.676490779569481, 0.67473...   \n",
       "2  [0.570645809283284, 0.554649995109709, 0.53035...   \n",
       "\n",
       "                                             torsion  \\\n",
       "0  [0.056621518940357, -0.24186227092408602, -0.2...   \n",
       "1  [-0.116814010497821, -0.128371951251356, 0.023...   \n",
       "2  [-0.053852082482733, 0.12404491093655, 0.07656...   \n",
       "\n",
       "                                              volume  \\\n",
       "0  [321, 250, 305, 308, 301, 308, 304, 309, 323, ...   \n",
       "1  [157, 133, 152, 153, 156, 165, 161, 171, 172, ...   \n",
       "2  [321, 277, 310, 315, 318, 337, 349, 355, 350, ...   \n",
       "\n",
       "                                           SubjectMD  \\\n",
       "0  [{'AGE': 12, 'analyses': [], 'code': '036_HM',...   \n",
       "1  [{'AGE': 12, 'analyses': [], 'code': '036_HM',...   \n",
       "2  [{'AGE': 12, 'analyses': [], 'code': '036_HM',...   \n",
       "\n",
       "                                              AcquMD  \\\n",
       "0  [{'AcquisitionDateTime': '', 'AcquisitionMatri...   \n",
       "1  [{'AcquisitionDateTime': '', 'AcquisitionMatri...   \n",
       "2  [{'AcquisitionDateTime': '', 'AcquisitionMatri...   \n",
       "\n",
       "                                          AnalysisMD  \n",
       "0  [{'AFQ_Browser_Title': 'AFQ_Browser', 'AFQ_Out...  \n",
       "1  [{'AFQ_Browser_Title': 'AFQ_Browser', 'AFQ_Out...  \n",
       "2  [{'AFQ_Browser_Title': 'AFQ_Browser', 'AFQ_Out...  "
      ]
     },
     "execution_count": 5,
     "metadata": {},
     "output_type": "execute_result"
    }
   ],
   "source": [
    "dt[:3]  # See first 3 rows"
   ]
  },
  {
   "cell_type": "markdown",
   "metadata": {},
   "source": [
    "To start checking the values, for example read and plot the fractional anisotropy (FA) values of Subject:036, Proj:YWM, Struct:LeftCorticospinal:"
   ]
  },
  {
   "cell_type": "code",
   "execution_count": 6,
   "metadata": {},
   "outputs": [
    {
     "name": "stdout",
     "output_type": "stream",
     "text": [
      "2     [0.6188707163567211, 0.6300176222572591, 0.646...\n",
      "22    [0.576489516312185, 0.582661687631237, 0.58179...\n",
      "Name: fa, dtype: object\n"
     ]
    }
   ],
   "source": [
    "myFA = dt.fa[(dt.Proj==\"YWM\") & (dt.SubjID==\"036_HM\") & (dt.Struct==\"LeftCorticospinal\")]\n",
    "print(myFA)"
   ]
  },
  {
   "cell_type": "markdown",
   "metadata": {},
   "source": [
    "There are two 100 value arrays. One important variable for this dataset is missing. In the YWM project, every subject attended only one session (TEST), but they had two scans performed in each session (with different bValues, number of directions...). Only one value is enough to separate the two arrays, bValue for example. \n",
    "\n",
    "Next, extract from the AcquMD subtablethe bValue parameter and slice the dataset again to obtain one single array. "
   ]
  },
  {
   "cell_type": "code",
   "execution_count": 7,
   "metadata": {},
   "outputs": [
    {
     "name": "stdout",
     "output_type": "stream",
     "text": [
      "2    [0.6188707163567211, 0.6300176222572591, 0.646...\n",
      "Name: fa, dtype: object\n",
      "22    [0.576489516312185, 0.582661687631237, 0.58179...\n",
      "Name: fa, dtype: object\n"
     ]
    }
   ],
   "source": [
    "# Extract the variable AcquMD.scanbValue to the first level to make it more useful\n",
    "dt['bValue'] = pd.Series([dt['AcquMD'][i][0]['scanbValue'] for i in dt.index], index=dt.index)\n",
    "\n",
    "# Slice it adding the new variable:\n",
    "myFA1000 = dt.fa[(dt.bValue==1000) & (dt.Proj==\"YWM\") & (dt.SubjID==\"036_HM\") & (dt.Struct==\"LeftCorticospinal\")]\n",
    "myFA2000 = dt.fa[(dt.bValue==2000) & (dt.Proj==\"YWM\") & (dt.SubjID==\"036_HM\") & (dt.Struct==\"LeftCorticospinal\")]\n",
    "print(myFA1000)\n",
    "print(myFA2000)"
   ]
  },
  {
   "cell_type": "markdown",
   "metadata": {},
   "source": [
    "No we have the Left Arcuate's FA profile of subject 036_HM, for b values 1000 and 2000.\n",
    "\n",
    "Plot it for visualization:"
   ]
  },
  {
   "cell_type": "code",
   "execution_count": 8,
   "metadata": {},
   "outputs": [
    {
     "data": {
      "image/png": "[encoded data removed]",
      "text/plain": [
       "<Figure size 432x288 with 1 Axes>"
      ]
     },
     "metadata": {},
     "output_type": "display_data"
    }
   ],
   "source": [
    "x        = np.arange(start=1, stop=101, step=1)\n",
    "y1000    = myFA1000.to_numpy()[0]\n",
    "y2000    = myFA2000.to_numpy()[0]\n",
    "\n",
    "fig = plt.figure()\n",
    "ax  = plt.axes()\n",
    "plt.plot(x, y1000, '-r', label='b = 1000')\n",
    "plt.plot(x, y2000, '-b', label='b = 2000')\n",
    "plt.legend();\n",
    "\n",
    "\n",
    "plt.title(\"Left Corticospinal (036_HM)\")\n",
    "plt.xlabel(\"Divisions\")\n",
    "plt.ylabel(\"FA\");"
   ]
  },
  {
   "cell_type": "markdown",
   "metadata": {},
   "source": [
    "### Explore other variables\n",
    "For example, the variables associated to SubjectMD. SubjectMD contains another sub-table called info. "
   ]
  },
  {
   "cell_type": "code",
   "execution_count": 8,
   "metadata": {},
   "outputs": [],
   "source": [
    "dt['info'] = pd.Series([dt['SubjectMD'][i][0]['info'] for i in dt.index], index=dt.index)"
   ]
  },
  {
   "cell_type": "code",
   "execution_count": 10,
   "metadata": {},
   "outputs": [
    {
     "name": "stdout",
     "output_type": "stream",
     "text": [
      "dict_keys(['AGE', 'AGE_AT_BEHAVIORAL_TESTING0x2C_MONTHS', 'AGE_AT_BEHAVIORAL_TESTING0x2C_YEARS', 'AGE_AT_BEHAVIORAL_TESTING_0x28ROUNDED0x29', 'AGE_AT_MRI0x2C_MONTHS', 'AGE_AT_MRI0x2C_YEARS', 'AGE_AT_MRI_0x28ROUNDED0x29', 'AVG_PDE_AB_SS', 'AVG_SWE_AB_SS', 'BIRTHDATE', 'CODE', 'DATE_OF_BEHAVIORAL_TESTING', 'DATE_OF_MRI', 'EYE', 'FOOT', 'GENDER_MALE1_FEMALE2', 'HANDEDNESS_R0x2FL', 'INITIALS', 'L', 'LQ', 'PDE_A_RAW', 'PDE_A_SS', 'PDE_B_RAW', 'PDE_B_SS', 'R', 'ReadEng_AgeAdj', 'SEX', 'SWE_A_RAW', 'SWE_A_SS', 'SWE_B_RAW', 'SWE_B_SS', 'WASI_IQ_SS', 'WASI_MATRIX_RAW', 'WASI_MATRIX_T', 'WASI_VOCAB_RAW', 'WASI_VOCAB_T', 'WH_ID', 'WID_RAW', 'WID_SS'])\n"
     ]
    }
   ],
   "source": [
    "# Check all values inside info\n",
    "print(dt.iloc[0].info[0].keys())"
   ]
  },
  {
   "cell_type": "code",
   "execution_count": 11,
   "metadata": {},
   "outputs": [],
   "source": [
    "# and extract to the first level only the one's we are interested in\n",
    "dt['birthdate'] = pd.Series([dt['info'][i][0]['BIRTHDATE'] for i in dt.index], index=dt.index)"
   ]
  },
  {
   "cell_type": "markdown",
   "metadata": {},
   "source": [
    "Do the same with AnalysisMD. First we check what kind of information we have here. "
   ]
  },
  {
   "cell_type": "code",
   "execution_count": 12,
   "metadata": {},
   "outputs": [
    {
     "name": "stdout",
     "output_type": "stream",
     "text": [
      "dict_keys(['AFQ_Browser_Title', 'AFQ_Output_Name', 'ET_angleValues', 'ET_maxlength', 'ET_minlength', 'ET_numberFibers', 'ET_runET', 'bsplineInterpFlag', 'cleanClippedFibers', 'cleanFibers', 'cleanIter', 'clip2rois', 'computeCSD', 'computenorms', 'cutoffLower', 'cutoffUpper', 'dwOutMm_1', 'dwOutMm_2', 'dwOutMm_3', 'eddyCorrect', 'fiberWeighting', 'fitMethod', 'flipLrApFlag', 'imresample', 'life_discretization', 'life_num_iterations', 'life_runLife', 'life_saveOutput', 'life_test', 'life_writePDB', 'maxDist', 'maxLen', 'mrtrix_autolmax', 'mrtrix_lmax', 'mrtrix_mrTrixAlgo', 'mrtrix_multishell', 'mrtrix_tool', 'mrtrix_useACT', 'nStep', 'noiseCalcMethod', 'normalization', 'numBootStrapSamples', 'numberOfNodes', 'phaseEncodeDir', 'rotateBvecsWithCanXform', 'rotateBvecsWithRx', 'savefigs', 'track_algorithm', 'track_angleThresh', 'track_faMaskThresh', 'track_faThresh', 'track_maxLengthThreshMm', 'track_minLengthThreshMm', 'track_nfibers', 'track_offsetJitter', 'track_seedVoxelOffset_1', 'track_seedVoxelOffset_2', 'track_stepSizeMm', 'track_wPuncture', 'track_whichAlgorithm', 'track_whichInterp'])\n"
     ]
    }
   ],
   "source": [
    "print(dt.iloc[0].AnalysisMD[0].keys())"
   ]
  },
  {
   "cell_type": "markdown",
   "metadata": {},
   "source": [
    "To check, we extract one of the values and see that there is only one value through the whole dataset."
   ]
  },
  {
   "cell_type": "code",
   "execution_count": 13,
   "metadata": {},
   "outputs": [
    {
     "data": {
      "text/plain": [
       "array(['47.2, 23.1, 11.5, 5.7, 2.9'], dtype=object)"
      ]
     },
     "execution_count": 13,
     "metadata": {},
     "output_type": "execute_result"
    }
   ],
   "source": [
    "dt['ET_angleValues'] = pd.Series([dt['AnalysisMD'][i][0]['ET_angleValues'] for i in dt.index], index=dt.index)\n",
    "dt['ET_angleValues'].unique()"
   ]
  },
  {
   "cell_type": "markdown",
   "metadata": {},
   "source": [
    "## Python json parser to a dict\n",
    "### Read the file"
   ]
  },
  {
   "cell_type": "code",
   "execution_count": 14,
   "metadata": {},
   "outputs": [],
   "source": [
    "with open(fNameWithPath) as f:\n",
    "    jd = json.load(f)"
   ]
  },
  {
   "cell_type": "markdown",
   "metadata": {},
   "source": [
    "### Get values"
   ]
  },
  {
   "cell_type": "code",
   "execution_count": 15,
   "metadata": {},
   "outputs": [],
   "source": [
    "# Read by line number. We know it from the previous example. Not very useful\n",
    "myFA1000 = [match.value for match in parse('$[2].fa').find(jd)]\n",
    "myFA2000 = [match.value for match in parse('$[22].fa').find(jd)]"
   ]
  },
  {
   "cell_type": "code",
   "execution_count": 16,
   "metadata": {},
   "outputs": [
    {
     "data": {
      "image/png": "[encoded data removed]",
      "text/plain": [
       "<Figure size 432x288 with 1 Axes>"
      ]
     },
     "metadata": {},
     "output_type": "display_data"
    }
   ],
   "source": [
    "x        = np.arange(start=1, stop=101, step=1)\n",
    "y1000    = np.transpose(myFA1000)\n",
    "y2000    = np.transpose(myFA2000)\n",
    "\n",
    "fig = plt.figure()\n",
    "ax  = plt.axes()\n",
    "plt.plot(x, y1000, '-r', label='b = 1000')\n",
    "plt.plot(x, y2000, '-b', label='b = 2000')\n",
    "plt.legend();\n",
    "\n",
    "plt.title(\"Left Corticospinal (036_HM)\")\n",
    "plt.xlabel(\"Divisions\")\n",
    "plt.ylabel(\"FA\");"
   ]
  },
  {
   "cell_type": "code",
   "execution_count": 17,
   "metadata": {},
   "outputs": [
    {
     "name": "stdout",
     "output_type": "stream",
     "text": [
      "Line number: 2, b value: 1000\n",
      "Line number: 22, b value: 2000\n"
     ]
    }
   ],
   "source": [
    "# Same problem if we don't specify the bValue\n",
    "FA = dict()\n",
    "for i,d in enumerate(jd):\n",
    "    if (d['Proj']=='YWM') & (d['SubjID']=='036_HM') & (d['Proj']=='YWM') & (d['Struct']=='LeftCorticospinal'):\n",
    "        print('Line number: '+str(i)+', b value: ' + str(d['AcquMD'][0]['scanbValue']))\n",
    "        FA[d['AcquMD'][0]['scanbValue']] = d['fa']\n"
   ]
  },
  {
   "cell_type": "code",
   "execution_count": 18,
   "metadata": {},
   "outputs": [
    {
     "data": {
      "image/png": "[encoded data removed]",
      "text/plain": [
       "<Figure size 432x288 with 1 Axes>"
      ]
     },
     "metadata": {},
     "output_type": "display_data"
    }
   ],
   "source": [
    "x        = np.arange(start=1, stop=101, step=1)\n",
    "y1000    = np.transpose(FA[1000])\n",
    "y2000    = np.transpose(FA[2000])\n",
    "\n",
    "fig = plt.figure()\n",
    "ax  = plt.axes()\n",
    "plt.plot(x, y1000, '-r', label='b = 1000')\n",
    "plt.plot(x, y2000, '-b', label='b = 2000')\n",
    "plt.legend();\n",
    "\n",
    "plt.title(\"Left Corticospinal (036_HM)\")\n",
    "plt.xlabel(\"Divisions\")\n",
    "plt.ylabel(\"FA\");\n"
   ]
  },
  {
   "cell_type": "code",
   "execution_count": null,
   "metadata": {},
   "outputs": [],
   "source": []
  }
 ],
 "metadata": {
  "kernelspec": {
   "display_name": "glubase",
   "language": "python",
   "name": "glubase"
  },
  "language_info": {
   "codemirror_mode": {
    "name": "ipython",
    "version": 3
   },
   "file_extension": ".py",
   "mimetype": "text/x-python",
   "name": "python",
   "nbconvert_exporter": "python",
   "pygments_lexer": "ipython3",
   "version": "3.8.2"
  }
 },
 "nbformat": 4,
 "nbformat_minor": 2
}
